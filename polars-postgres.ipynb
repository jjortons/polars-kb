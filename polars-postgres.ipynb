{
 "cells": [
  {
   "cell_type": "code",
   "execution_count": 1,
   "metadata": {},
   "outputs": [
    {
     "name": "stdin",
     "output_type": "stream",
     "text": [
      "Enter password to local postgresql database:  ········\n"
     ]
    }
   ],
   "source": [
    "import polars as pl\n",
    "import getpass\n",
    "\n",
    "# prompt for postgres password\n",
    "pw = getpass.getpass(prompt= 'Enter password to local postgresql database: ', stream= None)\n",
    "\n",
    "uri = \"postgresql://postgres:\"+ pw + \"@localhost:5432/Adventureworks\""
   ]
  },
  {
   "cell_type": "code",
   "execution_count": 2,
   "metadata": {},
   "outputs": [],
   "source": [
    "query_1 = '''select * from sales.salesorderdetail s \n",
    "where salesorderid = 43659\n",
    "'''\n",
    "\n",
    "query_2 = '''\n",
    "select o.*,\n",
    "\td.salesorderdetailid, d.productid, d.orderqty, d.unitprice, d.unitpricediscount, d.specialofferid, \n",
    "\t(d.orderqty * d.unitprice * (1 - d.unitpricediscount))::numeric(15,4) lineamt,\n",
    "\tp.name productname, p.productnumber, p.makeflag, p.finishedgoodsflag, p.color,\n",
    "\tp.safetystocklevel, p.reorderpoint, p.standardcost, p.listprice,\n",
    "\tp.productsubcategoryid, p.discontinueddate, p.sellenddate, p.class, p.productline\n",
    "\t, case when p.makeflag is true then 'Manufactured' else 'Purchased'\tend p_source\n",
    "from sales.salesorderheader o \n",
    "\tjoin sales.salesorderdetail d on (o.salesorderid = d.salesorderid)\n",
    "\tjoin production.product p on (d.productid = p.productid)\n",
    "'''\n",
    "\n",
    "query_3 = '''\n",
    "\tselect * from vw_orders_combined\n",
    "'''\n"
   ]
  },
  {
   "cell_type": "code",
   "execution_count": 3,
   "metadata": {},
   "outputs": [
    {
     "data": {
      "text/html": [
       "<div><style>\n",
       ".dataframe > thead > tr,\n",
       ".dataframe > tbody > tr {\n",
       "  text-align: right;\n",
       "  white-space: pre-wrap;\n",
       "}\n",
       "</style>\n",
       "<small>shape: (2, 10)</small><table border=\"1\" class=\"dataframe\"><thead><tr><th>salesorderid</th><th>salesorderdetailid</th><th>carriertrackingnumber</th><th>orderqty</th><th>productid</th><th>specialofferid</th><th>unitprice</th><th>unitpricediscount</th><th>rowguid</th><th>modifieddate</th></tr><tr><td>i32</td><td>i32</td><td>str</td><td>i32</td><td>i32</td><td>i32</td><td>f64</td><td>f64</td><td>str</td><td>datetime[ns]</td></tr></thead><tbody><tr><td>43659</td><td>1</td><td>&quot;4911-403C-98&quot;</td><td>1</td><td>776</td><td>1</td><td>2024.994</td><td>0.0</td><td>&quot;b207c96d-d9e6-402b-8470-2cc176…</td><td>2011-05-31 00:00:00</td></tr><tr><td>43659</td><td>2</td><td>&quot;4911-403C-98&quot;</td><td>3</td><td>777</td><td>1</td><td>2024.994</td><td>0.0</td><td>&quot;7abb600d-1e77-41be-9fe5-b9142c…</td><td>2011-05-31 00:00:00</td></tr></tbody></table></div>"
      ],
      "text/plain": [
       "shape: (2, 10)\n",
       "┌──────────────┬───────────────┬───────────────┬──────────┬───┬───────────┬──────────────┬──────────────┬──────────────┐\n",
       "│ salesorderid ┆ salesorderdet ┆ carriertracki ┆ orderqty ┆ … ┆ unitprice ┆ unitpricedis ┆ rowguid      ┆ modifieddate │\n",
       "│ ---          ┆ ailid         ┆ ngnumber      ┆ ---      ┆   ┆ ---       ┆ count        ┆ ---          ┆ ---          │\n",
       "│ i32          ┆ ---           ┆ ---           ┆ i32      ┆   ┆ f64       ┆ ---          ┆ str          ┆ datetime[ns] │\n",
       "│              ┆ i32           ┆ str           ┆          ┆   ┆           ┆ f64          ┆              ┆              │\n",
       "╞══════════════╪═══════════════╪═══════════════╪══════════╪═══╪═══════════╪══════════════╪══════════════╪══════════════╡\n",
       "│ 43659        ┆ 1             ┆ 4911-403C-98  ┆ 1        ┆ … ┆ 2024.994  ┆ 0.0          ┆ b207c96d-d9e ┆ 2011-05-31   │\n",
       "│              ┆               ┆               ┆          ┆   ┆           ┆              ┆ 6-402b-8470- ┆ 00:00:00     │\n",
       "│              ┆               ┆               ┆          ┆   ┆           ┆              ┆ 2cc176…      ┆              │\n",
       "│ 43659        ┆ 2             ┆ 4911-403C-98  ┆ 3        ┆ … ┆ 2024.994  ┆ 0.0          ┆ 7abb600d-1e7 ┆ 2011-05-31   │\n",
       "│              ┆               ┆               ┆          ┆   ┆           ┆              ┆ 7-41be-9fe5- ┆ 00:00:00     │\n",
       "│              ┆               ┆               ┆          ┆   ┆           ┆              ┆ b9142c…      ┆              │\n",
       "└──────────────┴───────────────┴───────────────┴──────────┴───┴───────────┴──────────────┴──────────────┴──────────────┘"
      ]
     },
     "execution_count": 3,
     "metadata": {},
     "output_type": "execute_result"
    }
   ],
   "source": [
    "df = pl.read_database_uri(query_1, uri)\n",
    "df.head(2)"
   ]
  },
  {
   "cell_type": "code",
   "execution_count": null,
   "metadata": {},
   "outputs": [],
   "source": [
    "# [el for el in dir(pl)]"
   ]
  },
  {
   "cell_type": "code",
   "execution_count": 4,
   "metadata": {},
   "outputs": [
    {
     "data": {
      "text/html": [
       "<div><style>\n",
       ".dataframe > thead > tr,\n",
       ".dataframe > tbody > tr {\n",
       "  text-align: right;\n",
       "  white-space: pre-wrap;\n",
       "}\n",
       "</style>\n",
       "<small>shape: (2, 47)</small><table border=\"1\" class=\"dataframe\"><thead><tr><th>salesorderid</th><th>revisionnumber</th><th>orderdate</th><th>duedate</th><th>shipdate</th><th>status</th><th>onlineorderflag</th><th>purchaseordernumber</th><th>accountnumber</th><th>customerid</th><th>salespersonid</th><th>territoryid</th><th>billtoaddressid</th><th>shiptoaddressid</th><th>shipmethodid</th><th>creditcardid</th><th>creditcardapprovalcode</th><th>currencyrateid</th><th>subtotal</th><th>taxamt</th><th>freight</th><th>totaldue</th><th>comment</th><th>rowguid</th><th>modifieddate</th><th>salesorderdetailid</th><th>productid</th><th>orderqty</th><th>unitprice</th><th>unitpricediscount</th><th>specialofferid</th><th>lineamt</th><th>productname</th><th>productnumber</th><th>makeflag</th><th>finishedgoodsflag</th><th>color</th><th>safetystocklevel</th><th>reorderpoint</th><th>standardcost</th><th>listprice</th><th>productsubcategoryid</th><th>discontinueddate</th><th>sellenddate</th><th>class</th><th>productline</th><th>p_source</th></tr><tr><td>i32</td><td>i32</td><td>datetime[ns]</td><td>datetime[ns]</td><td>datetime[ns]</td><td>i32</td><td>bool</td><td>str</td><td>str</td><td>i32</td><td>i32</td><td>i32</td><td>i32</td><td>i32</td><td>i32</td><td>i32</td><td>str</td><td>i32</td><td>f64</td><td>f64</td><td>f64</td><td>f64</td><td>str</td><td>str</td><td>datetime[ns]</td><td>i32</td><td>i32</td><td>i32</td><td>f64</td><td>f64</td><td>i32</td><td>f64</td><td>str</td><td>str</td><td>bool</td><td>bool</td><td>str</td><td>i32</td><td>i32</td><td>f64</td><td>f64</td><td>i32</td><td>datetime[ns]</td><td>datetime[ns]</td><td>str</td><td>str</td><td>str</td></tr></thead><tbody><tr><td>43662</td><td>8</td><td>2011-05-31 00:00:00</td><td>2011-06-12 00:00:00</td><td>2011-06-07 00:00:00</td><td>5</td><td>false</td><td>&quot;PO18444174044&quot;</td><td>&quot;10-4020-000227&quot;</td><td>29994</td><td>282</td><td>6</td><td>482</td><td>482</td><td>5</td><td>10456</td><td>&quot;125295Vi53935&quot;</td><td>4</td><td>28832.5289</td><td>2775.1646</td><td>867.2389</td><td>32474.9324</td><td>null</td><td>&quot;4a1ecfc0-cc3a-4740-b028-1c50bb…</td><td>2011-06-07 00:00:00</td><td>30</td><td>764</td><td>3</td><td>419.4589</td><td>0.0</td><td>1</td><td>1258.3767</td><td>&quot;Road-650 Red, 52&quot;</td><td>&quot;BK-R50R-52&quot;</td><td>true</td><td>true</td><td>&quot;Red&quot;</td><td>100</td><td>75</td><td>486.7066</td><td>782.99</td><td>2</td><td>null</td><td>2013-05-29 00:00:00</td><td>&quot;L &quot;</td><td>&quot;R &quot;</td><td>&quot;Manufactured&quot;</td></tr><tr><td>43662</td><td>8</td><td>2011-05-31 00:00:00</td><td>2011-06-12 00:00:00</td><td>2011-06-07 00:00:00</td><td>5</td><td>false</td><td>&quot;PO18444174044&quot;</td><td>&quot;10-4020-000227&quot;</td><td>29994</td><td>282</td><td>6</td><td>482</td><td>482</td><td>5</td><td>10456</td><td>&quot;125295Vi53935&quot;</td><td>4</td><td>28832.5289</td><td>2775.1646</td><td>867.2389</td><td>32474.9324</td><td>null</td><td>&quot;4a1ecfc0-cc3a-4740-b028-1c50bb…</td><td>2011-06-07 00:00:00</td><td>31</td><td>770</td><td>5</td><td>419.4589</td><td>0.0</td><td>1</td><td>2097.2945</td><td>&quot;Road-650 Black, 52&quot;</td><td>&quot;BK-R50B-52&quot;</td><td>true</td><td>true</td><td>&quot;Black&quot;</td><td>100</td><td>75</td><td>486.7066</td><td>782.99</td><td>2</td><td>null</td><td>2013-05-29 00:00:00</td><td>&quot;L &quot;</td><td>&quot;R &quot;</td><td>&quot;Manufactured&quot;</td></tr></tbody></table></div>"
      ],
      "text/plain": [
       "shape: (2, 47)\n",
       "┌──────────────┬───────────────┬───────────────┬───────────────┬───┬──────────────┬───────┬─────────────┬──────────────┐\n",
       "│ salesorderid ┆ revisionnumbe ┆ orderdate     ┆ duedate       ┆ … ┆ sellenddate  ┆ class ┆ productline ┆ p_source     │\n",
       "│ ---          ┆ r             ┆ ---           ┆ ---           ┆   ┆ ---          ┆ ---   ┆ ---         ┆ ---          │\n",
       "│ i32          ┆ ---           ┆ datetime[ns]  ┆ datetime[ns]  ┆   ┆ datetime[ns] ┆ str   ┆ str         ┆ str          │\n",
       "│              ┆ i32           ┆               ┆               ┆   ┆              ┆       ┆             ┆              │\n",
       "╞══════════════╪═══════════════╪═══════════════╪═══════════════╪═══╪══════════════╪═══════╪═════════════╪══════════════╡\n",
       "│ 43662        ┆ 8             ┆ 2011-05-31    ┆ 2011-06-12    ┆ … ┆ 2013-05-29   ┆ L     ┆ R           ┆ Manufactured │\n",
       "│              ┆               ┆ 00:00:00      ┆ 00:00:00      ┆   ┆ 00:00:00     ┆       ┆             ┆              │\n",
       "│ 43662        ┆ 8             ┆ 2011-05-31    ┆ 2011-06-12    ┆ … ┆ 2013-05-29   ┆ L     ┆ R           ┆ Manufactured │\n",
       "│              ┆               ┆ 00:00:00      ┆ 00:00:00      ┆   ┆ 00:00:00     ┆       ┆             ┆              │\n",
       "└──────────────┴───────────────┴───────────────┴───────────────┴───┴──────────────┴───────┴─────────────┴──────────────┘"
      ]
     },
     "execution_count": 4,
     "metadata": {},
     "output_type": "execute_result"
    }
   ],
   "source": [
    "df3 = pl.read_database_uri(query_3, uri)\n",
    "df3.head(2)"
   ]
  },
  {
   "cell_type": "code",
   "execution_count": 5,
   "metadata": {},
   "outputs": [
    {
     "data": {
      "text/html": [
       "<div><style>\n",
       ".dataframe > thead > tr,\n",
       ".dataframe > tbody > tr {\n",
       "  text-align: right;\n",
       "  white-space: pre-wrap;\n",
       "}\n",
       "</style>\n",
       "<small>shape: (2, 47)</small><table border=\"1\" class=\"dataframe\"><thead><tr><th>salesorderid</th><th>revisionnumber</th><th>orderdate</th><th>duedate</th><th>shipdate</th><th>status</th><th>onlineorderflag</th><th>purchaseordernumber</th><th>accountnumber</th><th>customerid</th><th>salespersonid</th><th>territoryid</th><th>billtoaddressid</th><th>shiptoaddressid</th><th>shipmethodid</th><th>creditcardid</th><th>creditcardapprovalcode</th><th>currencyrateid</th><th>subtotal</th><th>taxamt</th><th>freight</th><th>totaldue</th><th>comment</th><th>rowguid</th><th>modifieddate</th><th>salesorderdetailid</th><th>productid</th><th>orderqty</th><th>unitprice</th><th>unitpricediscount</th><th>specialofferid</th><th>lineamt</th><th>productname</th><th>productnumber</th><th>makeflag</th><th>finishedgoodsflag</th><th>color</th><th>safetystocklevel</th><th>reorderpoint</th><th>standardcost</th><th>listprice</th><th>productsubcategoryid</th><th>discontinueddate</th><th>sellenddate</th><th>class</th><th>productline</th><th>p_source</th></tr><tr><td>i32</td><td>i32</td><td>datetime[ns]</td><td>datetime[ns]</td><td>datetime[ns]</td><td>i32</td><td>bool</td><td>str</td><td>str</td><td>i32</td><td>i32</td><td>i32</td><td>i32</td><td>i32</td><td>i32</td><td>i32</td><td>str</td><td>i32</td><td>f64</td><td>f64</td><td>f64</td><td>f64</td><td>str</td><td>str</td><td>datetime[ns]</td><td>i32</td><td>i32</td><td>i32</td><td>f64</td><td>f64</td><td>i32</td><td>f64</td><td>str</td><td>str</td><td>bool</td><td>bool</td><td>str</td><td>i32</td><td>i32</td><td>f64</td><td>f64</td><td>i32</td><td>datetime[ns]</td><td>datetime[ns]</td><td>str</td><td>str</td><td>str</td></tr></thead><tbody><tr><td>72503</td><td>8</td><td>2014-05-08 00:00:00</td><td>2014-05-20 00:00:00</td><td>2014-05-15 00:00:00</td><td>5</td><td>true</td><td>null</td><td>&quot;10-4030-018525&quot;</td><td>18525</td><td>null</td><td>6</td><td>14258</td><td>14258</td><td>1</td><td>16453</td><td>&quot;1241493Vi85140&quot;</td><td>12175</td><td>1735.98</td><td>138.8784</td><td>43.3995</td><td>1918.2579</td><td>null</td><td>&quot;c2de3d98-63a2-4284-8163-be5175…</td><td>2014-05-15 00:00:00</td><td>114948</td><td>973</td><td>1</td><td>1700.99</td><td>0.0</td><td>1</td><td>1700.99</td><td>&quot;Road-350-W Yellow, 40&quot;</td><td>&quot;BK-R79Y-40&quot;</td><td>true</td><td>true</td><td>&quot;Yellow&quot;</td><td>100</td><td>75</td><td>1082.51</td><td>1700.99</td><td>2</td><td>null</td><td>null</td><td>&quot;M &quot;</td><td>&quot;R &quot;</td><td>&quot;Manufactured&quot;</td></tr><tr><td>72503</td><td>8</td><td>2014-05-08 00:00:00</td><td>2014-05-20 00:00:00</td><td>2014-05-15 00:00:00</td><td>5</td><td>true</td><td>null</td><td>&quot;10-4030-018525&quot;</td><td>18525</td><td>null</td><td>6</td><td>14258</td><td>14258</td><td>1</td><td>16453</td><td>&quot;1241493Vi85140&quot;</td><td>12175</td><td>1735.98</td><td>138.8784</td><td>43.3995</td><td>1918.2579</td><td>null</td><td>&quot;c2de3d98-63a2-4284-8163-be5175…</td><td>2014-05-15 00:00:00</td><td>114949</td><td>707</td><td>1</td><td>34.99</td><td>0.0</td><td>1</td><td>34.99</td><td>&quot;Sport-100 Helmet, Red&quot;</td><td>&quot;HL-U509-R&quot;</td><td>false</td><td>true</td><td>&quot;Red&quot;</td><td>4</td><td>3</td><td>13.0863</td><td>34.99</td><td>31</td><td>null</td><td>null</td><td>null</td><td>&quot;S &quot;</td><td>&quot;Purchased&quot;</td></tr></tbody></table></div>"
      ],
      "text/plain": [
       "shape: (2, 47)\n",
       "┌──────────────┬───────────────┬───────────────┬───────────────┬───┬──────────────┬───────┬─────────────┬──────────────┐\n",
       "│ salesorderid ┆ revisionnumbe ┆ orderdate     ┆ duedate       ┆ … ┆ sellenddate  ┆ class ┆ productline ┆ p_source     │\n",
       "│ ---          ┆ r             ┆ ---           ┆ ---           ┆   ┆ ---          ┆ ---   ┆ ---         ┆ ---          │\n",
       "│ i32          ┆ ---           ┆ datetime[ns]  ┆ datetime[ns]  ┆   ┆ datetime[ns] ┆ str   ┆ str         ┆ str          │\n",
       "│              ┆ i32           ┆               ┆               ┆   ┆              ┆       ┆             ┆              │\n",
       "╞══════════════╪═══════════════╪═══════════════╪═══════════════╪═══╪══════════════╪═══════╪═════════════╪══════════════╡\n",
       "│ 72503        ┆ 8             ┆ 2014-05-08    ┆ 2014-05-20    ┆ … ┆ null         ┆ M     ┆ R           ┆ Manufactured │\n",
       "│              ┆               ┆ 00:00:00      ┆ 00:00:00      ┆   ┆              ┆       ┆             ┆              │\n",
       "│ 72503        ┆ 8             ┆ 2014-05-08    ┆ 2014-05-20    ┆ … ┆ null         ┆ null  ┆ S           ┆ Purchased    │\n",
       "│              ┆               ┆ 00:00:00      ┆ 00:00:00      ┆   ┆              ┆       ┆             ┆              │\n",
       "└──────────────┴───────────────┴───────────────┴───────────────┴───┴──────────────┴───────┴─────────────┴──────────────┘"
      ]
     },
     "execution_count": 5,
     "metadata": {},
     "output_type": "execute_result"
    }
   ],
   "source": [
    "(\n",
    "    df3\n",
    "    .filter(\n",
    "        pl.col(\"customerid\") == 18525\n",
    "    )\n",
    "    \n",
    "\n",
    ")"
   ]
  },
  {
   "cell_type": "code",
   "execution_count": 6,
   "metadata": {},
   "outputs": [
    {
     "data": {
      "text/html": [
       "<div><style>\n",
       ".dataframe > thead > tr,\n",
       ".dataframe > tbody > tr {\n",
       "  text-align: right;\n",
       "  white-space: pre-wrap;\n",
       "}\n",
       "</style>\n",
       "<small>shape: (5, 2)</small><table border=\"1\" class=\"dataframe\"><thead><tr><th>customerid</th><th>line_total</th></tr><tr><td>i32</td><td>f64</td></tr></thead><tbody><tr><td>17185</td><td>6954.57</td></tr><tr><td>24438</td><td>96.07</td></tr><tr><td>23277</td><td>22.93</td></tr><tr><td>12493</td><td>69.99</td></tr><tr><td>25340</td><td>4.99</td></tr></tbody></table></div>"
      ],
      "text/plain": [
       "shape: (5, 2)\n",
       "┌────────────┬────────────┐\n",
       "│ customerid ┆ line_total │\n",
       "│ ---        ┆ ---        │\n",
       "│ i32        ┆ f64        │\n",
       "╞════════════╪════════════╡\n",
       "│ 17185      ┆ 6954.57    │\n",
       "│ 24438      ┆ 96.07      │\n",
       "│ 23277      ┆ 22.93      │\n",
       "│ 12493      ┆ 69.99      │\n",
       "│ 25340      ┆ 4.99       │\n",
       "└────────────┴────────────┘"
      ]
     },
     "execution_count": 6,
     "metadata": {},
     "output_type": "execute_result"
    }
   ],
   "source": [
    "(\n",
    "    df3\n",
    "    .with_columns (\n",
    "        (pl.col(\"orderqty\") * pl.col(\"unitprice\")).alias(\"line_total\")\n",
    "    )\n",
    "    .group_by(\n",
    "        pl.col(\"customerid\")\n",
    "    )\n",
    "    .agg(\n",
    "        pl.col('line_total').sum().round(2)\n",
    "    )\n",
    "    .head(5)\n",
    ")"
   ]
  },
  {
   "cell_type": "code",
   "execution_count": null,
   "metadata": {},
   "outputs": [],
   "source": []
  },
  {
   "cell_type": "code",
   "execution_count": null,
   "metadata": {},
   "outputs": [],
   "source": []
  },
  {
   "cell_type": "code",
   "execution_count": null,
   "metadata": {},
   "outputs": [],
   "source": []
  },
  {
   "cell_type": "code",
   "execution_count": null,
   "metadata": {},
   "outputs": [],
   "source": []
  },
  {
   "cell_type": "code",
   "execution_count": null,
   "metadata": {},
   "outputs": [],
   "source": []
  },
  {
   "cell_type": "code",
   "execution_count": null,
   "metadata": {},
   "outputs": [],
   "source": []
  },
  {
   "cell_type": "code",
   "execution_count": null,
   "metadata": {},
   "outputs": [],
   "source": []
  },
  {
   "cell_type": "code",
   "execution_count": null,
   "metadata": {},
   "outputs": [],
   "source": []
  }
 ],
 "metadata": {
  "kernelspec": {
   "display_name": "Python 3 (ipykernel)",
   "language": "python",
   "name": "python3"
  },
  "language_info": {
   "codemirror_mode": {
    "name": "ipython",
    "version": 3
   },
   "file_extension": ".py",
   "mimetype": "text/x-python",
   "name": "python",
   "nbconvert_exporter": "python",
   "pygments_lexer": "ipython3",
   "version": "3.12.0"
  }
 },
 "nbformat": 4,
 "nbformat_minor": 4
}
